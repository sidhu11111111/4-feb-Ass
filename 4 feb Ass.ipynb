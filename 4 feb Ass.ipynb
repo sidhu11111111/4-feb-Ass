{
 "cells": [
  {
   "cell_type": "markdown",
   "id": "8cd9b06e-9bb4-4d05-b58c-af7846ec6e56",
   "metadata": {},
   "source": [
    "#QNO.1 ANS"
   ]
  },
  {
   "cell_type": "code",
   "execution_count": 2,
   "id": "24672e2c-884e-4362-b3a8-9de9576907fd",
   "metadata": {},
   "outputs": [
    {
     "name": "stdout",
     "output_type": "stream",
     "text": [
      "[('Sachin Tendulkar', 34357), ('Ricky Ponting', 27483), ('Jack Kallis', 25534), ('Virat Kohli', 24936)]\n"
     ]
    }
   ],
   "source": [
    "data = [('Sachin Tendulkar', 34357), ('Ricky Ponting', 27483), ('Jack Kallis', 25534), ('Virat Kohli', 24936)]\n",
    "sorted_data = sorted(data, key=lambda x : x[1],reverse=True)\n",
    "print(sorted_data)"
   ]
  },
  {
   "cell_type": "markdown",
   "id": "a9360a87-618d-4582-89e3-9a25f4024326",
   "metadata": {},
   "source": [
    "#QNO.2 ANS"
   ]
  },
  {
   "cell_type": "code",
   "execution_count": 3,
   "id": "8830cabe-48e8-4aeb-904e-31ebbb4a2f54",
   "metadata": {},
   "outputs": [
    {
     "name": "stdout",
     "output_type": "stream",
     "text": [
      "[1, 4, 9, 16, 25, 36, 49, 64, 81, 100]\n"
     ]
    }
   ],
   "source": [
    "data = [1,2,3,4,5,6,7,8,9,10]\n",
    "squares = list(map(lambda x: x*x,data))\n",
    "print(squares)"
   ]
  },
  {
   "cell_type": "markdown",
   "id": "d4b607ae-1e5e-4aac-8bb4-4a89b9b71f64",
   "metadata": {},
   "source": [
    "#QNO.3 ANS"
   ]
  },
  {
   "cell_type": "code",
   "execution_count": 4,
   "id": "6cb1474a-30e2-4b2e-ae42-ee5da2b1fe7b",
   "metadata": {},
   "outputs": [
    {
     "name": "stdout",
     "output_type": "stream",
     "text": [
      "('1', '2', '3', '4', '5', '6', '7', '8', '9', '10')\n"
     ]
    }
   ],
   "source": [
    "data = [1,2,3,4,5,6,7,8,9,10]\n",
    "tuple_of_strings=tuple(map(lambda x : str(x),data))\n",
    "print(tuple_of_strings)"
   ]
  },
  {
   "cell_type": "markdown",
   "id": "5e7830d2-a558-4346-bdc2-1777d6a4d172",
   "metadata": {},
   "source": [
    "#QNO.4 ANS"
   ]
  },
  {
   "cell_type": "code",
   "execution_count": 7,
   "id": "bc5761bd-0539-451a-8ea6-881268a99791",
   "metadata": {
    "jupyter": {
     "source_hidden": true
    },
    "tags": []
   },
   "outputs": [
    {
     "name": "stdout",
     "output_type": "stream",
     "text": [
      "15511210043330985984000000\n"
     ]
    }
   ],
   "source": [
    "from functools import reduce \n",
    "data =range(1,26)\n",
    "product = reduce(lambda x, y:x*y,data)\n",
    "print(product)"
   ]
  },
  {
   "cell_type": "markdown",
   "id": "22c05e58-8ba8-48c7-be54-77af194d4a78",
   "metadata": {},
   "source": [
    "#QNO.5 ANS"
   ]
  },
  {
   "cell_type": "code",
   "execution_count": 8,
   "id": "d09def92-511f-44c4-a026-142df1bc4814",
   "metadata": {},
   "outputs": [
    {
     "name": "stdout",
     "output_type": "stream",
     "text": [
      "[6, 60, 90, 120]\n"
     ]
    }
   ],
   "source": [
    "data = [2, 3, 6, 9, 27, 60, 90, 120, 55, 46]\n",
    "filtered_data = list(filter(lambda x: x%2==0 and x%3 == 0,data))\n",
    "print(filtered_data)"
   ]
  },
  {
   "cell_type": "markdown",
   "id": "2a688fec-a95e-45bb-baf1-326ddee54ed0",
   "metadata": {},
   "source": [
    "#QNO.6 ANS"
   ]
  },
  {
   "cell_type": "code",
   "execution_count": 9,
   "id": "dfd06bf4-b465-485f-a026-c90b72c041d3",
   "metadata": {},
   "outputs": [
    {
     "name": "stdout",
     "output_type": "stream",
     "text": [
      "['php', 'aba', 'radar', 'level']\n"
     ]
    }
   ],
   "source": [
    "data = ['python', 'php', 'aba', 'radar', 'level']\n",
    "palindromes = list(filter(lambda x : x == x[::-1],data))\n",
    "print(palindromes)"
   ]
  },
  {
   "cell_type": "code",
   "execution_count": null,
   "id": "1b2c269a-157a-442a-948d-488d5623ad5c",
   "metadata": {},
   "outputs": [],
   "source": []
  }
 ],
 "metadata": {
  "kernelspec": {
   "display_name": "Python 3 (ipykernel)",
   "language": "python",
   "name": "python3"
  },
  "language_info": {
   "codemirror_mode": {
    "name": "ipython",
    "version": 3
   },
   "file_extension": ".py",
   "mimetype": "text/x-python",
   "name": "python",
   "nbconvert_exporter": "python",
   "pygments_lexer": "ipython3",
   "version": "3.10.8"
  }
 },
 "nbformat": 4,
 "nbformat_minor": 5
}
